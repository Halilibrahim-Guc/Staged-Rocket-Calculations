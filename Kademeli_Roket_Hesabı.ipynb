{
  "nbformat": 4,
  "nbformat_minor": 0,
  "metadata": {
    "colab": {
      "provenance": [],
      "authorship_tag": "ABX9TyOOJj2kgivFG99bBCITMnwu",
      "include_colab_link": true
    },
    "kernelspec": {
      "name": "python3",
      "display_name": "Python 3"
    },
    "language_info": {
      "name": "python"
    }
  },
  "cells": [
    {
      "cell_type": "markdown",
      "metadata": {
        "id": "view-in-github",
        "colab_type": "text"
      },
      "source": [
        "<a href=\"https://colab.research.google.com/github/Halilibrahim-Guc/Staged-Rocket-Calculations/blob/main/Kademeli_Roket_Hesab%C4%B1.ipynb\" target=\"_parent\"><img src=\"https://colab.research.google.com/assets/colab-badge.svg\" alt=\"Open In Colab\"/></a>"
      ]
    },
    {
      "cell_type": "code",
      "source": [
        "import numpy as np\n",
        "\n",
        "# Sabitler\n",
        "g = 9.81  # m/s^2\n",
        "Cd = 0.75  # Sürtünme katsayısı (drag)\n",
        "rho0 = 1.225  # kg/m^3 (deniz seviyesindeki hava yoğunluğu)\n",
        "zaman_adımı = 0.1  # saniye\n",
        "\n",
        "# Kullanıcı girdileri\n",
        "Isp = float(input(\"Özgül itki (Isp) değerini girin (saniye): \"))\n",
        "dis_cap = float(input(\"Yakıt dış çapını girin (metre): \"))\n",
        "loading_density = float(input(\"Yakıt yükleme yoğunluğunu girin (0-1 arası): \"))\n",
        "length_diameter_ratio = float(input(\"Yakıt uzunluk/çap oranını girin: \"))\n",
        "yakıt_oz_kutle = float(input(\"Yakıt öz kütlesini girin (kg/m^3): \"))\n",
        "yanma_hizi = float(input(\"Yanma hızını girin (metre/saniye): \"))\n",
        "yapisal_kutle = float(input(\"Yapısal kütleyi girin (kg): \"))\n",
        "faydali_yuk_kutlesi = float(input(\"Faydalı yük kütlesini girin (kg): \"))\n",
        "kademe_sayisi = int(input(\"Roketin kaç kademeli olacağını girin: \"))\n",
        "\n",
        "# Yakıt uzunluğunu hesapla\n",
        "yakıt_uzunluk = dis_cap * length_diameter_ratio\n",
        "\n",
        "# Yakıt iç çapını hesaplama\n",
        "ic_cap = np.sqrt((1 - loading_density) * (dis_cap * dis_cap))\n",
        "\n",
        "# Yakıt kütlesi hesaplama\n",
        "yakıt_hacmi = (np.pi / 4) * (dis_cap**2 - ic_cap**2) * yakıt_uzunluk\n",
        "yakıt_kutlesi = yakıt_hacmi * yakıt_oz_kutle\n",
        "\n",
        "# Toplam kütle hesaplamaları (her aşama için eşit kütle paylaşımı)\n",
        "toplam_kutle = yapisal_kutle + yakıt_kutlesi + faydali_yuk_kutlesi\n",
        "kademede_yakit_kutlesi = yakıt_kutlesi / kademe_sayisi\n",
        "kademede_yapisal_kutle = yapisal_kutle / kademe_sayisi\n",
        "\n",
        "# Yanma süresi hesaplama (her aşama için aynı süre)\n",
        "yanma_suresi = (dis_cap - ic_cap) / (2 * yanma_hizi)\n",
        "\n",
        "# Hız ve yükseklik başlangıç değerleri\n",
        "hiz = 0  # m/s\n",
        "yukseklik = 0  # m\n",
        "\n",
        "# Hava yoğunluğu hesaplama fonksiyonu\n",
        "def hava_yogunlugu(y):\n",
        "    return rho0 * np.exp(-y / 8000)  # Basit üstel model\n",
        "\n",
        "# Kademe hesaplamaları\n",
        "for kademe in range(kademe_sayisi):\n",
        "    baslangic_kutle = toplam_kutle - faydali_yuk_kutlesi\n",
        "    son_kutle = baslangic_kutle - kademede_yakit_kutlesi\n",
        "\n",
        "    t = 0\n",
        "    while t < yanma_suresi:\n",
        "        rho = hava_yogunlugu(yukseklik)\n",
        "        surukleme_gucu = 0.5 * rho * hiz**2 * Cd * (np.pi * (dis_cap / 2)**2)\n",
        "        itki = g * Isp * (kademede_yakit_kutlesi / yanma_suresi)\n",
        "        ivme = (itki - surukleme_gucu - baslangic_kutle * g) / baslangic_kutle\n",
        "        hiz += ivme * zaman_adımı\n",
        "        yukseklik += hiz * zaman_adımı\n",
        "        baslangic_kutle -= (itki / (g * Isp)) * zaman_adımı\n",
        "        t += zaman_adımı\n",
        "\n",
        "    toplam_kutle -= kademede_yakit_kutlesi + kademede_yapisal_kutle\n",
        "\n",
        "    # Kademe sonuçlarını yazdır\n",
        "    print(f\"Kademe {kademe + 1}:\")\n",
        "    print(f\"  Nihai hız: {hiz:.2f} m/s\")\n",
        "    print(f\"  Nihai yükseklik: {yukseklik:.2f} m\")\n",
        "\n",
        "# Toplam sonuçları yazdır\n",
        "print(f\"Toplam Nihai Hız: {hiz:.2f} m/s\")\n",
        "print(f\"Toplam Nihai Yükseklik: {yukseklik:.2f} m\")\n"
      ],
      "metadata": {
        "colab": {
          "base_uri": "https://localhost:8080/"
        },
        "id": "wFJlwGCR1dCy",
        "outputId": "784e9668-5653-44ef-e882-e3f8ab9b8190"
      },
      "execution_count": 2,
      "outputs": [
        {
          "output_type": "stream",
          "name": "stdout",
          "text": [
            "Özgül itki (Isp) değerini girin (saniye): 295.2\n",
            "Yakıt dış çapını girin (metre): 0.7\n",
            "Yakıt yükleme yoğunluğunu girin (0-1 arası): 0.9\n",
            "Yakıt uzunluk/çap oranını girin: 13\n",
            "Yakıt öz kütlesini girin (kg/m^3): 1748\n",
            "Yanma hızını girin (metre/saniye): 0.00866\n",
            "Yapısal kütleyi girin (kg): 465.509\n",
            "Faydalı yük kütlesini girin (kg): 200\n",
            "Roketin kaç kademeli olacağını girin: 3\n",
            "Kademe 1:\n",
            "  Nihai hız: 709.49 m/s\n",
            "  Nihai yükseklik: 9459.14 m\n",
            "Kademe 2:\n",
            "  Nihai hız: 2098.34 m/s\n",
            "  Nihai yükseklik: 45447.89 m\n",
            "Kademe 3:\n",
            "  Nihai hız: 9233.77 m/s\n",
            "  Nihai yükseklik: 163019.00 m\n",
            "Toplam Nihai Hız: 9233.77 m/s\n",
            "Toplam Nihai Yükseklik: 163019.00 m\n"
          ]
        }
      ]
    },
    {
      "cell_type": "code",
      "source": [
        "print(f\"yakıt_uzunluk: {yakıt_uzunluk: .2f} m\")\n",
        "print(f\"ic_cap: {ic_cap: .2f} m\")\n",
        "print(f\"yakıt_kutlesi: {yakıt_kutlesi: .2f} kg\")\n",
        "print(f\"yanma_suresi: {yanma_suresi: .2f} s\")\n",
        "print(f\"roketin başlangıçtaki toplam kütlesi: {toplam_kutle} kg\")"
      ],
      "metadata": {
        "colab": {
          "base_uri": "https://localhost:8080/"
        },
        "id": "37_ivHUf-wNV",
        "outputId": "951bb330-aa25-466a-c804-2088337dd4f5"
      },
      "execution_count": 9,
      "outputs": [
        {
          "output_type": "stream",
          "name": "stdout",
          "text": [
            "yakıt_uzunluk:  9.10 m\n",
            "ic_cap:  0.22 m\n",
            "yakıt_kutlesi:  5509.49 kg\n",
            "yanma_suresi:  27.64 s\n",
            "roketin başlangıçtaki toplam kütlesi: 200.0 kg\n"
          ]
        }
      ]
    }
  ]
}